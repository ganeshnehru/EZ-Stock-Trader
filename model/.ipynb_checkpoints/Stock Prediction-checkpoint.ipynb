{
 "cells": [
  {
   "cell_type": "code",
   "execution_count": 55,
   "id": "a0c2a787",
   "metadata": {},
   "outputs": [],
   "source": [
    "import yfinance as yf\n",
    "import numpy as np\n",
    "import pandas as pd\n",
    "import tensorflow as tf\n",
    "from tensorflow import keras\n",
    "from sklearn.preprocessing import MinMaxScaler\n",
    "from keras.models import Sequential\n",
    "from keras.layers import Dense, LSTM, Dropout\n",
    "from sklearn.metrics import mean_squared_error, accuracy_score\n",
    "from datetime import date"
   ]
  },
  {
   "cell_type": "markdown",
   "id": "e0740f16",
   "metadata": {},
   "source": [
    "### Getting stock data from ticker input.\n"
   ]
  },
  {
   "cell_type": "code",
   "execution_count": 22,
   "id": "3f53dbc2",
   "metadata": {},
   "outputs": [
    {
     "name": "stdout",
     "output_type": "stream",
     "text": [
      "Please enter a symbol: GOOG\n",
      "Success! Downloading data now...\n",
      "[*********************100%***********************]  1 of 1 completed\n"
     ]
    }
   ],
   "source": [
    "symbol_input = input(\"Please enter a symbol: \")\n",
    "stock_symbol = symbol_input\n",
    "stock_ticker = yf.Ticker(stock_symbol)\n",
    "\n",
    "today = str(date.today())\n",
    "\n",
    "\n",
    "if stock_ticker.history().empty:\n",
    "    print(\"ERROR: Not a valid stock symbol. Please try again.\\n\")\n",
    "else:\n",
    "    print(\"Success! Downloading data now...\")\n",
    "    stock_data = yf.download(stock_symbol, start='2016-01-01', end=today)"
   ]
  },
  {
   "cell_type": "code",
   "execution_count": 23,
   "id": "2b4ac479",
   "metadata": {},
   "outputs": [
    {
     "data": {
      "text/html": [
       "<div>\n",
       "<style scoped>\n",
       "    .dataframe tbody tr th:only-of-type {\n",
       "        vertical-align: middle;\n",
       "    }\n",
       "\n",
       "    .dataframe tbody tr th {\n",
       "        vertical-align: top;\n",
       "    }\n",
       "\n",
       "    .dataframe thead th {\n",
       "        text-align: right;\n",
       "    }\n",
       "</style>\n",
       "<table border=\"1\" class=\"dataframe\">\n",
       "  <thead>\n",
       "    <tr style=\"text-align: right;\">\n",
       "      <th></th>\n",
       "      <th>Open</th>\n",
       "      <th>High</th>\n",
       "      <th>Low</th>\n",
       "      <th>Close</th>\n",
       "      <th>Adj Close</th>\n",
       "      <th>Volume</th>\n",
       "    </tr>\n",
       "    <tr>\n",
       "      <th>Date</th>\n",
       "      <th></th>\n",
       "      <th></th>\n",
       "      <th></th>\n",
       "      <th></th>\n",
       "      <th></th>\n",
       "      <th></th>\n",
       "    </tr>\n",
       "  </thead>\n",
       "  <tbody>\n",
       "    <tr>\n",
       "      <th>2016-01-04</th>\n",
       "      <td>37.150002</td>\n",
       "      <td>37.202999</td>\n",
       "      <td>36.562901</td>\n",
       "      <td>37.091999</td>\n",
       "      <td>37.091999</td>\n",
       "      <td>65456000</td>\n",
       "    </tr>\n",
       "    <tr>\n",
       "      <th>2016-01-05</th>\n",
       "      <td>37.322498</td>\n",
       "      <td>37.599998</td>\n",
       "      <td>36.931999</td>\n",
       "      <td>37.129002</td>\n",
       "      <td>37.129002</td>\n",
       "      <td>39014000</td>\n",
       "    </tr>\n",
       "    <tr>\n",
       "      <th>2016-01-06</th>\n",
       "      <td>36.500000</td>\n",
       "      <td>37.359001</td>\n",
       "      <td>36.445999</td>\n",
       "      <td>37.181000</td>\n",
       "      <td>37.181000</td>\n",
       "      <td>38940000</td>\n",
       "    </tr>\n",
       "    <tr>\n",
       "      <th>2016-01-07</th>\n",
       "      <td>36.515499</td>\n",
       "      <td>36.924999</td>\n",
       "      <td>35.952999</td>\n",
       "      <td>36.319500</td>\n",
       "      <td>36.319500</td>\n",
       "      <td>59274000</td>\n",
       "    </tr>\n",
       "    <tr>\n",
       "      <th>2016-01-08</th>\n",
       "      <td>36.572498</td>\n",
       "      <td>36.661499</td>\n",
       "      <td>35.650002</td>\n",
       "      <td>35.723499</td>\n",
       "      <td>35.723499</td>\n",
       "      <td>49018000</td>\n",
       "    </tr>\n",
       "  </tbody>\n",
       "</table>\n",
       "</div>"
      ],
      "text/plain": [
       "                 Open       High        Low      Close  Adj Close    Volume\n",
       "Date                                                                       \n",
       "2016-01-04  37.150002  37.202999  36.562901  37.091999  37.091999  65456000\n",
       "2016-01-05  37.322498  37.599998  36.931999  37.129002  37.129002  39014000\n",
       "2016-01-06  36.500000  37.359001  36.445999  37.181000  37.181000  38940000\n",
       "2016-01-07  36.515499  36.924999  35.952999  36.319500  36.319500  59274000\n",
       "2016-01-08  36.572498  36.661499  35.650002  35.723499  35.723499  49018000"
      ]
     },
     "execution_count": 23,
     "metadata": {},
     "output_type": "execute_result"
    }
   ],
   "source": [
    "stock_data.head()"
   ]
  },
  {
   "cell_type": "markdown",
   "id": "56313073",
   "metadata": {},
   "source": [
    "### Creating a dataframe from the downloaded stock data."
   ]
  },
  {
   "cell_type": "code",
   "execution_count": 24,
   "id": "608d7ed9",
   "metadata": {},
   "outputs": [],
   "source": [
    "df = pd.DataFrame(data=stock_data, columns=['Close'])"
   ]
  },
  {
   "cell_type": "markdown",
   "id": "6639841a",
   "metadata": {},
   "source": [
    "### Normalizing the dataframe."
   ]
  },
  {
   "cell_type": "code",
   "execution_count": 25,
   "id": "fe734a9e",
   "metadata": {},
   "outputs": [],
   "source": [
    "scaler = MinMaxScaler(feature_range=(0, 1))\n",
    "scaled_data = scaler.fit_transform(df['Close'].values.reshape(-1, 1))"
   ]
  },
  {
   "cell_type": "code",
   "execution_count": 26,
   "id": "525603e0",
   "metadata": {},
   "outputs": [],
   "source": [
    "n_train = int(len(scaled_data) * 0.8)\n",
    "train_data = scaled_data[:n_train, :]\n",
    "test_data = scaled_data[n_train:, :]"
   ]
  },
  {
   "cell_type": "code",
   "execution_count": 27,
   "id": "6c00c8bc",
   "metadata": {},
   "outputs": [],
   "source": [
    "def create_dataset(dataset, lookback):\n",
    "    X, y = [], []\n",
    "    for i in range(lookback, len(dataset)):\n",
    "        X.append(dataset[i-lookback:i, 0])\n",
    "        y.append(dataset[i, 0])\n",
    "    return np.array(X), np.array(y)"
   ]
  },
  {
   "cell_type": "code",
   "execution_count": 28,
   "id": "65a2bf75",
   "metadata": {},
   "outputs": [],
   "source": [
    "lookback = 60\n",
    "X_train, y_train = create_dataset(train_data, lookback)\n",
    "X_test, y_test = create_dataset(test_data, lookback)"
   ]
  },
  {
   "cell_type": "code",
   "execution_count": 29,
   "id": "b2e6ed41",
   "metadata": {},
   "outputs": [],
   "source": [
    "X_train = np.reshape(X_train, (X_train.shape[0], X_train.shape[1], 1))\n",
    "X_test = np.reshape(X_test, (X_test.shape[0], X_test.shape[1], 1))"
   ]
  },
  {
   "cell_type": "markdown",
   "id": "e2a3b2a5",
   "metadata": {},
   "source": [
    "### Defining the LSTM model."
   ]
  },
  {
   "cell_type": "code",
   "execution_count": 30,
   "id": "d20a44ed",
   "metadata": {},
   "outputs": [],
   "source": [
    "model = Sequential()\n",
    "model.add(LSTM(units=50, return_sequences=True, input_shape=(X_train.shape[1], 1)))\n",
    "model.add(Dropout(0.2))\n",
    "model.add(LSTM(units=50, return_sequences=True))\n",
    "model.add(Dropout(0.2))\n",
    "model.add(LSTM(units=50))\n",
    "model.add(Dropout(0.2))\n",
    "model.add(Dense(units=1))"
   ]
  },
  {
   "cell_type": "code",
   "execution_count": 31,
   "id": "5a991562",
   "metadata": {},
   "outputs": [],
   "source": [
    "model.compile(optimizer='adam', loss='mean_squared_error')"
   ]
  },
  {
   "cell_type": "code",
   "execution_count": 32,
   "id": "988105ca",
   "metadata": {},
   "outputs": [
    {
     "name": "stdout",
     "output_type": "stream",
     "text": [
      "Epoch 1/100\n"
     ]
    },
    {
     "name": "stderr",
     "output_type": "stream",
     "text": [
      "2023-03-04 09:03:56.039303: I tensorflow/core/grappler/optimizers/custom_graph_optimizer_registry.cc:114] Plugin optimizer for device_type GPU is enabled.\n",
      "2023-03-04 09:03:56.224185: I tensorflow/core/grappler/optimizers/custom_graph_optimizer_registry.cc:114] Plugin optimizer for device_type GPU is enabled.\n",
      "2023-03-04 09:03:56.323304: I tensorflow/core/grappler/optimizers/custom_graph_optimizer_registry.cc:114] Plugin optimizer for device_type GPU is enabled.\n",
      "2023-03-04 09:03:56.427805: I tensorflow/core/grappler/optimizers/custom_graph_optimizer_registry.cc:114] Plugin optimizer for device_type GPU is enabled.\n",
      "2023-03-04 09:03:56.561705: I tensorflow/core/grappler/optimizers/custom_graph_optimizer_registry.cc:114] Plugin optimizer for device_type GPU is enabled.\n",
      "2023-03-04 09:03:56.745080: I tensorflow/core/grappler/optimizers/custom_graph_optimizer_registry.cc:114] Plugin optimizer for device_type GPU is enabled.\n"
     ]
    },
    {
     "name": "stdout",
     "output_type": "stream",
     "text": [
      "\r",
      " 1/44 [..............................] - ETA: 1:53 - loss: 0.1306"
     ]
    },
    {
     "name": "stderr",
     "output_type": "stream",
     "text": [
      "2023-03-04 09:03:56.936798: I tensorflow/core/grappler/optimizers/custom_graph_optimizer_registry.cc:114] Plugin optimizer for device_type GPU is enabled.\n"
     ]
    },
    {
     "name": "stdout",
     "output_type": "stream",
     "text": [
      "44/44 [==============================] - 5s 56ms/step - loss: 0.0147\n",
      "Epoch 2/100\n",
      "44/44 [==============================] - 2s 41ms/step - loss: 0.0016\n",
      "Epoch 3/100\n",
      "44/44 [==============================] - 2s 41ms/step - loss: 0.0012\n",
      "Epoch 4/100\n",
      "44/44 [==============================] - 2s 42ms/step - loss: 9.5861e-04\n",
      "Epoch 5/100\n",
      "44/44 [==============================] - 2s 42ms/step - loss: 7.7215e-04\n",
      "Epoch 6/100\n",
      "44/44 [==============================] - 2s 42ms/step - loss: 7.5247e-04\n",
      "Epoch 7/100\n",
      "44/44 [==============================] - 2s 41ms/step - loss: 7.2257e-04\n",
      "Epoch 8/100\n",
      "44/44 [==============================] - 2s 41ms/step - loss: 6.7863e-04\n",
      "Epoch 9/100\n",
      "44/44 [==============================] - 2s 41ms/step - loss: 6.4727e-04\n",
      "Epoch 10/100\n",
      "44/44 [==============================] - 2s 41ms/step - loss: 5.5977e-04\n",
      "Epoch 11/100\n",
      "44/44 [==============================] - 2s 41ms/step - loss: 5.9028e-04\n",
      "Epoch 12/100\n",
      "44/44 [==============================] - 2s 42ms/step - loss: 5.4213e-04\n",
      "Epoch 13/100\n",
      "44/44 [==============================] - 2s 43ms/step - loss: 4.8509e-04\n",
      "Epoch 14/100\n",
      "44/44 [==============================] - 2s 41ms/step - loss: 4.5650e-04\n",
      "Epoch 15/100\n",
      "44/44 [==============================] - 2s 41ms/step - loss: 4.9983e-04\n",
      "Epoch 16/100\n",
      "44/44 [==============================] - 2s 41ms/step - loss: 5.5307e-04\n",
      "Epoch 17/100\n",
      "44/44 [==============================] - 2s 41ms/step - loss: 4.7687e-04\n",
      "Epoch 18/100\n",
      "44/44 [==============================] - 2s 41ms/step - loss: 4.4899e-04\n",
      "Epoch 19/100\n",
      "44/44 [==============================] - 2s 41ms/step - loss: 4.4020e-04\n",
      "Epoch 20/100\n",
      "44/44 [==============================] - 2s 41ms/step - loss: 4.2769e-04\n",
      "Epoch 21/100\n",
      "44/44 [==============================] - 2s 41ms/step - loss: 5.7529e-04\n",
      "Epoch 22/100\n",
      "44/44 [==============================] - 2s 41ms/step - loss: 4.2645e-04\n",
      "Epoch 23/100\n",
      "44/44 [==============================] - 2s 41ms/step - loss: 3.7495e-04\n",
      "Epoch 24/100\n",
      "44/44 [==============================] - 2s 42ms/step - loss: 4.8227e-04\n",
      "Epoch 25/100\n",
      "44/44 [==============================] - 2s 41ms/step - loss: 3.7494e-04\n",
      "Epoch 26/100\n",
      "44/44 [==============================] - 2s 42ms/step - loss: 3.6154e-04\n",
      "Epoch 27/100\n",
      "44/44 [==============================] - 2s 42ms/step - loss: 5.7623e-04\n",
      "Epoch 28/100\n",
      "44/44 [==============================] - 2s 42ms/step - loss: 4.5249e-04\n",
      "Epoch 29/100\n",
      "44/44 [==============================] - 2s 42ms/step - loss: 4.8477e-04\n",
      "Epoch 30/100\n",
      "44/44 [==============================] - 2s 42ms/step - loss: 3.5226e-04\n",
      "Epoch 31/100\n",
      "44/44 [==============================] - 2s 42ms/step - loss: 3.1900e-04\n",
      "Epoch 32/100\n",
      "44/44 [==============================] - 2s 42ms/step - loss: 3.8234e-04\n",
      "Epoch 33/100\n",
      "44/44 [==============================] - 2s 42ms/step - loss: 3.3971e-04\n",
      "Epoch 34/100\n",
      "44/44 [==============================] - 2s 42ms/step - loss: 3.5176e-04\n",
      "Epoch 35/100\n",
      "44/44 [==============================] - 2s 42ms/step - loss: 3.2747e-04\n",
      "Epoch 36/100\n",
      "44/44 [==============================] - 2s 42ms/step - loss: 3.1659e-04\n",
      "Epoch 37/100\n",
      "44/44 [==============================] - 2s 42ms/step - loss: 3.0514e-04\n",
      "Epoch 38/100\n",
      "44/44 [==============================] - 2s 42ms/step - loss: 3.1837e-04\n",
      "Epoch 39/100\n",
      "44/44 [==============================] - 2s 42ms/step - loss: 3.2658e-04\n",
      "Epoch 40/100\n",
      "44/44 [==============================] - 2s 41ms/step - loss: 2.9083e-04\n",
      "Epoch 41/100\n",
      "44/44 [==============================] - 2s 41ms/step - loss: 2.8510e-04\n",
      "Epoch 42/100\n",
      "44/44 [==============================] - 2s 41ms/step - loss: 3.0476e-04\n",
      "Epoch 43/100\n",
      "44/44 [==============================] - 2s 41ms/step - loss: 2.9103e-04\n",
      "Epoch 44/100\n",
      "44/44 [==============================] - 2s 41ms/step - loss: 3.2753e-04\n",
      "Epoch 45/100\n",
      "44/44 [==============================] - 2s 41ms/step - loss: 2.9118e-04\n",
      "Epoch 46/100\n",
      "44/44 [==============================] - 2s 41ms/step - loss: 3.4707e-04\n",
      "Epoch 47/100\n",
      "44/44 [==============================] - 2s 41ms/step - loss: 3.1939e-04\n",
      "Epoch 48/100\n",
      "44/44 [==============================] - 2s 41ms/step - loss: 3.0240e-04\n",
      "Epoch 49/100\n",
      "44/44 [==============================] - 2s 41ms/step - loss: 2.5915e-04\n",
      "Epoch 50/100\n",
      "44/44 [==============================] - 2s 41ms/step - loss: 2.6878e-04\n",
      "Epoch 51/100\n",
      "44/44 [==============================] - 2s 41ms/step - loss: 2.5504e-04\n",
      "Epoch 52/100\n",
      "44/44 [==============================] - 2s 41ms/step - loss: 2.4427e-04\n",
      "Epoch 53/100\n",
      "44/44 [==============================] - 2s 41ms/step - loss: 2.5724e-04\n",
      "Epoch 54/100\n",
      "44/44 [==============================] - 2s 41ms/step - loss: 2.4271e-04\n",
      "Epoch 55/100\n",
      "44/44 [==============================] - 2s 41ms/step - loss: 2.8198e-04\n",
      "Epoch 56/100\n",
      "44/44 [==============================] - 2s 41ms/step - loss: 2.3161e-04\n",
      "Epoch 57/100\n",
      "44/44 [==============================] - 2s 41ms/step - loss: 2.4330e-04\n",
      "Epoch 58/100\n",
      "44/44 [==============================] - 2s 41ms/step - loss: 2.4310e-04\n",
      "Epoch 59/100\n",
      "44/44 [==============================] - 2s 41ms/step - loss: 2.2423e-04\n",
      "Epoch 60/100\n",
      "44/44 [==============================] - 2s 41ms/step - loss: 2.3108e-04\n",
      "Epoch 61/100\n",
      "44/44 [==============================] - 2s 41ms/step - loss: 2.4760e-04\n",
      "Epoch 62/100\n",
      "44/44 [==============================] - 2s 41ms/step - loss: 2.1850e-04\n",
      "Epoch 63/100\n",
      "44/44 [==============================] - 2s 41ms/step - loss: 2.3379e-04\n",
      "Epoch 64/100\n",
      "44/44 [==============================] - 2s 41ms/step - loss: 2.5027e-04\n",
      "Epoch 65/100\n",
      "44/44 [==============================] - 2s 41ms/step - loss: 2.1193e-04\n",
      "Epoch 66/100\n",
      "44/44 [==============================] - 2s 41ms/step - loss: 1.9964e-04\n",
      "Epoch 67/100\n",
      "44/44 [==============================] - 2s 41ms/step - loss: 2.0204e-04\n",
      "Epoch 68/100\n",
      "44/44 [==============================] - 2s 41ms/step - loss: 2.5212e-04\n",
      "Epoch 69/100\n",
      "44/44 [==============================] - 2s 41ms/step - loss: 2.1074e-04\n",
      "Epoch 70/100\n",
      "44/44 [==============================] - 2s 40ms/step - loss: 1.9295e-04\n",
      "Epoch 71/100\n",
      "44/44 [==============================] - 2s 40ms/step - loss: 2.6070e-04\n",
      "Epoch 72/100\n",
      "44/44 [==============================] - 2s 40ms/step - loss: 2.1171e-04\n",
      "Epoch 73/100\n",
      "44/44 [==============================] - 2s 40ms/step - loss: 2.2026e-04\n",
      "Epoch 74/100\n",
      "44/44 [==============================] - 2s 40ms/step - loss: 1.8896e-04\n",
      "Epoch 75/100\n",
      "44/44 [==============================] - 2s 40ms/step - loss: 2.3471e-04\n",
      "Epoch 76/100\n",
      "44/44 [==============================] - 2s 40ms/step - loss: 2.0393e-04\n",
      "Epoch 77/100\n",
      "44/44 [==============================] - 2s 40ms/step - loss: 2.2351e-04\n",
      "Epoch 78/100\n",
      "44/44 [==============================] - 2s 40ms/step - loss: 1.8747e-04\n",
      "Epoch 79/100\n",
      "44/44 [==============================] - 2s 40ms/step - loss: 1.8028e-04\n",
      "Epoch 80/100\n",
      "44/44 [==============================] - 2s 40ms/step - loss: 2.2401e-04\n",
      "Epoch 81/100\n",
      "44/44 [==============================] - 2s 40ms/step - loss: 1.6216e-04\n",
      "Epoch 82/100\n",
      "44/44 [==============================] - 2s 40ms/step - loss: 1.5946e-04\n",
      "Epoch 83/100\n",
      "44/44 [==============================] - 2s 40ms/step - loss: 1.9933e-04\n",
      "Epoch 84/100\n",
      "44/44 [==============================] - 2s 40ms/step - loss: 2.7321e-04\n",
      "Epoch 85/100\n",
      "44/44 [==============================] - 2s 40ms/step - loss: 1.8805e-04\n",
      "Epoch 86/100\n",
      "44/44 [==============================] - 2s 40ms/step - loss: 1.7707e-04\n",
      "Epoch 87/100\n",
      "44/44 [==============================] - 2s 40ms/step - loss: 1.4688e-04\n",
      "Epoch 88/100\n",
      "44/44 [==============================] - 2s 40ms/step - loss: 1.8584e-04\n",
      "Epoch 89/100\n",
      "44/44 [==============================] - 2s 40ms/step - loss: 1.4970e-04\n",
      "Epoch 90/100\n",
      "44/44 [==============================] - 2s 40ms/step - loss: 1.6619e-04\n",
      "Epoch 91/100\n",
      "44/44 [==============================] - 2s 40ms/step - loss: 1.9621e-04\n",
      "Epoch 92/100\n",
      "44/44 [==============================] - 2s 40ms/step - loss: 1.8930e-04\n",
      "Epoch 93/100\n",
      "44/44 [==============================] - 2s 40ms/step - loss: 1.7551e-04\n",
      "Epoch 94/100\n",
      "44/44 [==============================] - 2s 40ms/step - loss: 1.5959e-04\n",
      "Epoch 95/100\n",
      "44/44 [==============================] - 2s 40ms/step - loss: 1.6102e-04\n",
      "Epoch 96/100\n"
     ]
    },
    {
     "name": "stdout",
     "output_type": "stream",
     "text": [
      "44/44 [==============================] - 2s 40ms/step - loss: 1.4777e-04\n",
      "Epoch 97/100\n",
      "44/44 [==============================] - 2s 40ms/step - loss: 1.4214e-04\n",
      "Epoch 98/100\n",
      "44/44 [==============================] - 2s 40ms/step - loss: 1.7535e-04\n",
      "Epoch 99/100\n",
      "44/44 [==============================] - 2s 40ms/step - loss: 1.6384e-04\n",
      "Epoch 100/100\n",
      "44/44 [==============================] - 2s 40ms/step - loss: 1.4032e-04\n"
     ]
    },
    {
     "data": {
      "text/plain": [
       "<keras.callbacks.History at 0x2db79ded0>"
      ]
     },
     "execution_count": 32,
     "metadata": {},
     "output_type": "execute_result"
    }
   ],
   "source": [
    "model.fit(X_train, y_train, epochs=100, batch_size=32)"
   ]
  },
  {
   "cell_type": "code",
   "execution_count": 33,
   "id": "46f9d099",
   "metadata": {},
   "outputs": [
    {
     "name": "stderr",
     "output_type": "stream",
     "text": [
      "2023-03-04 09:06:57.661419: I tensorflow/core/grappler/optimizers/custom_graph_optimizer_registry.cc:114] Plugin optimizer for device_type GPU is enabled.\n",
      "2023-03-04 09:06:57.721297: I tensorflow/core/grappler/optimizers/custom_graph_optimizer_registry.cc:114] Plugin optimizer for device_type GPU is enabled.\n",
      "2023-03-04 09:06:57.804665: I tensorflow/core/grappler/optimizers/custom_graph_optimizer_registry.cc:114] Plugin optimizer for device_type GPU is enabled.\n"
     ]
    },
    {
     "name": "stdout",
     "output_type": "stream",
     "text": [
      "1/1 [==============================] - 1s 624ms/step\n"
     ]
    },
    {
     "name": "stderr",
     "output_type": "stream",
     "text": [
      "2023-03-04 09:06:57.895471: I tensorflow/core/grappler/optimizers/custom_graph_optimizer_registry.cc:114] Plugin optimizer for device_type GPU is enabled.\n"
     ]
    }
   ],
   "source": [
    "last_x = scaled_data[-lookback:]\n",
    "last_x = np.reshape(last_x, (1, lookback, 1))\n",
    "predicted_price = model.predict(last_x)\n",
    "predicted_price = scaler.inverse_transform(predicted_price)[0][0]"
   ]
  },
  {
   "cell_type": "code",
   "execution_count": 34,
   "id": "fb8ae685",
   "metadata": {},
   "outputs": [
    {
     "name": "stdout",
     "output_type": "stream",
     "text": [
      "Tomorrow's predicted stock price: +94.80\n"
     ]
    }
   ],
   "source": [
    "last_price = df['Close'][-1]\n",
    "if predicted_price > last_price:\n",
    "    sign = \"+\"\n",
    "else:\n",
    "    sign = \"-\"\n",
    "    \n",
    "print(f\"Tomorrow's predicted stock price: {sign}{predicted_price:.2f}\")"
   ]
  },
  {
   "cell_type": "code",
   "execution_count": null,
   "id": "9c3aad56",
   "metadata": {},
   "outputs": [],
   "source": []
  }
 ],
 "metadata": {
  "kernelspec": {
   "display_name": "Python 3 (ipykernel)",
   "language": "python",
   "name": "python3"
  },
  "language_info": {
   "codemirror_mode": {
    "name": "ipython",
    "version": 3
   },
   "file_extension": ".py",
   "mimetype": "text/x-python",
   "name": "python",
   "nbconvert_exporter": "python",
   "pygments_lexer": "ipython3",
   "version": "3.10.9"
  }
 },
 "nbformat": 4,
 "nbformat_minor": 5
}
